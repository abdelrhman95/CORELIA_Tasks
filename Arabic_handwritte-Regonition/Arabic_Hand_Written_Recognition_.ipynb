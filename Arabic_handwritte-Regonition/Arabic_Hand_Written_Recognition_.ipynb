{
  "nbformat": 4,
  "nbformat_minor": 0,
  "metadata": {
    "colab": {
      "name": "Arabic Hand Written Recognition .ipynb",
      "provenance": []
    },
    "kernelspec": {
      "name": "python3",
      "display_name": "Python 3"
    },
    "language_info": {
      "name": "python"
    }
  },
  "cells": [
    {
      "cell_type": "code",
      "execution_count": null,
      "metadata": {
        "id": "nCfy3jpSpAS-"
      },
      "outputs": [],
      "source": [
        "import numpy as np \n",
        "import pandas as pd \n",
        "from IPython.display import display \n",
        "\n",
        "import csv \n",
        "from PIL import Image \n",
        "from scipy.ndimage import rotate \n",
        "\n",
        "\n",
        "from keras import layers, models, Sequential\n",
        "from keras.layers import Conv2D, MaxPooling2D, GlobalAveragePooling2D, BatchNormalization, Dropout, Dense\n",
        "from keras.applications.mobilenet import MobileNet\n",
        "\n",
        "%matplotlib inline \n"
      ]
    },
    {
      "cell_type": "code",
      "source": [
        "training_images = \"/content/csvTrainImages 13440x1024.csv\"\n",
        "training_labels = \"/content/csvTrainLabel 13440x1.csv\"\n",
        "\n",
        "testing_images = \"/content/csvTestImages 3360x1024.csv\"\n",
        "testing_labels = \"/content/csvTestLabel 3360x1.csv\""
      ],
      "metadata": {
        "id": "rb7TEAyJqDr2"
      },
      "execution_count": null,
      "outputs": []
    },
    {
      "cell_type": "code",
      "source": [
        "train_im = pd.read_csv(training_images,header=None)\n",
        "train_label = pd.read_csv(training_labels,header=None)\n",
        "\n",
        "test_im = pd.read_csv(testing_images,header=None)\n",
        "test_labels = pd.read_csv(testing_labels,header=None)\n",
        "\n"
      ],
      "metadata": {
        "id": "V4ysyLw7waF_"
      },
      "execution_count": null,
      "outputs": []
    },
    {
      "cell_type": "code",
      "source": [
        "print(\"there are %d training images of 32*32 pixles\" %train_im.shape[0])\n",
        "print(\"there are %d testing images of 32*32 pixles\" %test_im.shape[0])"
      ],
      "metadata": {
        "colab": {
          "base_uri": "https://localhost:8080/"
        },
        "id": "xHIhr1yqxvqa",
        "outputId": "61456a2b-417f-4b6e-eeb3-49669d0eaa48"
      },
      "execution_count": null,
      "outputs": [
        {
          "output_type": "stream",
          "name": "stdout",
          "text": [
            "there are 13440 training images of 32*32 pixles\n",
            "there are 3360 testing images of 32*32 pixles\n"
          ]
        }
      ]
    },
    {
      "cell_type": "code",
      "source": [
        "train_im.head()"
      ],
      "metadata": {
        "colab": {
          "base_uri": "https://localhost:8080/",
          "height": 236
        },
        "id": "WLDmXfgKySHf",
        "outputId": "83513c7f-8765-4d75-ed9f-1768ee00e508"
      },
      "execution_count": null,
      "outputs": [
        {
          "output_type": "execute_result",
          "data": {
            "text/plain": [
              "   0     1     2     3     4     5     6     7     8     9     ...  1014  \\\n",
              "0     0     0     0     0     0     0     0     0     0     0  ...     0   \n",
              "1     0     0     0     0     0     0     0     0     0     0  ...     0   \n",
              "2     0     0     0     0     0     0     0     0     0     0  ...     0   \n",
              "3     0     0     0     0     0     0     0     0     0     0  ...     0   \n",
              "4     0     0     0     0     0     0     0     0     0     0  ...     0   \n",
              "\n",
              "   1015  1016  1017  1018  1019  1020  1021  1022  1023  \n",
              "0     0     0     0     0     0     0     0     0     0  \n",
              "1     0     0     0     0     0     0     0     0     0  \n",
              "2     0     0     0     0     0     0     0     0     0  \n",
              "3     0     0     0     0     0     0     0     0     0  \n",
              "4     0     0     0     0     0     0     0     0     0  \n",
              "\n",
              "[5 rows x 1024 columns]"
            ],
            "text/html": [
              "\n",
              "  <div id=\"df-2f75b704-a3bd-4473-a100-137fc8d33b21\">\n",
              "    <div class=\"colab-df-container\">\n",
              "      <div>\n",
              "<style scoped>\n",
              "    .dataframe tbody tr th:only-of-type {\n",
              "        vertical-align: middle;\n",
              "    }\n",
              "\n",
              "    .dataframe tbody tr th {\n",
              "        vertical-align: top;\n",
              "    }\n",
              "\n",
              "    .dataframe thead th {\n",
              "        text-align: right;\n",
              "    }\n",
              "</style>\n",
              "<table border=\"1\" class=\"dataframe\">\n",
              "  <thead>\n",
              "    <tr style=\"text-align: right;\">\n",
              "      <th></th>\n",
              "      <th>0</th>\n",
              "      <th>1</th>\n",
              "      <th>2</th>\n",
              "      <th>3</th>\n",
              "      <th>4</th>\n",
              "      <th>5</th>\n",
              "      <th>6</th>\n",
              "      <th>7</th>\n",
              "      <th>8</th>\n",
              "      <th>9</th>\n",
              "      <th>...</th>\n",
              "      <th>1014</th>\n",
              "      <th>1015</th>\n",
              "      <th>1016</th>\n",
              "      <th>1017</th>\n",
              "      <th>1018</th>\n",
              "      <th>1019</th>\n",
              "      <th>1020</th>\n",
              "      <th>1021</th>\n",
              "      <th>1022</th>\n",
              "      <th>1023</th>\n",
              "    </tr>\n",
              "  </thead>\n",
              "  <tbody>\n",
              "    <tr>\n",
              "      <th>0</th>\n",
              "      <td>0</td>\n",
              "      <td>0</td>\n",
              "      <td>0</td>\n",
              "      <td>0</td>\n",
              "      <td>0</td>\n",
              "      <td>0</td>\n",
              "      <td>0</td>\n",
              "      <td>0</td>\n",
              "      <td>0</td>\n",
              "      <td>0</td>\n",
              "      <td>...</td>\n",
              "      <td>0</td>\n",
              "      <td>0</td>\n",
              "      <td>0</td>\n",
              "      <td>0</td>\n",
              "      <td>0</td>\n",
              "      <td>0</td>\n",
              "      <td>0</td>\n",
              "      <td>0</td>\n",
              "      <td>0</td>\n",
              "      <td>0</td>\n",
              "    </tr>\n",
              "    <tr>\n",
              "      <th>1</th>\n",
              "      <td>0</td>\n",
              "      <td>0</td>\n",
              "      <td>0</td>\n",
              "      <td>0</td>\n",
              "      <td>0</td>\n",
              "      <td>0</td>\n",
              "      <td>0</td>\n",
              "      <td>0</td>\n",
              "      <td>0</td>\n",
              "      <td>0</td>\n",
              "      <td>...</td>\n",
              "      <td>0</td>\n",
              "      <td>0</td>\n",
              "      <td>0</td>\n",
              "      <td>0</td>\n",
              "      <td>0</td>\n",
              "      <td>0</td>\n",
              "      <td>0</td>\n",
              "      <td>0</td>\n",
              "      <td>0</td>\n",
              "      <td>0</td>\n",
              "    </tr>\n",
              "    <tr>\n",
              "      <th>2</th>\n",
              "      <td>0</td>\n",
              "      <td>0</td>\n",
              "      <td>0</td>\n",
              "      <td>0</td>\n",
              "      <td>0</td>\n",
              "      <td>0</td>\n",
              "      <td>0</td>\n",
              "      <td>0</td>\n",
              "      <td>0</td>\n",
              "      <td>0</td>\n",
              "      <td>...</td>\n",
              "      <td>0</td>\n",
              "      <td>0</td>\n",
              "      <td>0</td>\n",
              "      <td>0</td>\n",
              "      <td>0</td>\n",
              "      <td>0</td>\n",
              "      <td>0</td>\n",
              "      <td>0</td>\n",
              "      <td>0</td>\n",
              "      <td>0</td>\n",
              "    </tr>\n",
              "    <tr>\n",
              "      <th>3</th>\n",
              "      <td>0</td>\n",
              "      <td>0</td>\n",
              "      <td>0</td>\n",
              "      <td>0</td>\n",
              "      <td>0</td>\n",
              "      <td>0</td>\n",
              "      <td>0</td>\n",
              "      <td>0</td>\n",
              "      <td>0</td>\n",
              "      <td>0</td>\n",
              "      <td>...</td>\n",
              "      <td>0</td>\n",
              "      <td>0</td>\n",
              "      <td>0</td>\n",
              "      <td>0</td>\n",
              "      <td>0</td>\n",
              "      <td>0</td>\n",
              "      <td>0</td>\n",
              "      <td>0</td>\n",
              "      <td>0</td>\n",
              "      <td>0</td>\n",
              "    </tr>\n",
              "    <tr>\n",
              "      <th>4</th>\n",
              "      <td>0</td>\n",
              "      <td>0</td>\n",
              "      <td>0</td>\n",
              "      <td>0</td>\n",
              "      <td>0</td>\n",
              "      <td>0</td>\n",
              "      <td>0</td>\n",
              "      <td>0</td>\n",
              "      <td>0</td>\n",
              "      <td>0</td>\n",
              "      <td>...</td>\n",
              "      <td>0</td>\n",
              "      <td>0</td>\n",
              "      <td>0</td>\n",
              "      <td>0</td>\n",
              "      <td>0</td>\n",
              "      <td>0</td>\n",
              "      <td>0</td>\n",
              "      <td>0</td>\n",
              "      <td>0</td>\n",
              "      <td>0</td>\n",
              "    </tr>\n",
              "  </tbody>\n",
              "</table>\n",
              "<p>5 rows × 1024 columns</p>\n",
              "</div>\n",
              "      <button class=\"colab-df-convert\" onclick=\"convertToInteractive('df-2f75b704-a3bd-4473-a100-137fc8d33b21')\"\n",
              "              title=\"Convert this dataframe to an interactive table.\"\n",
              "              style=\"display:none;\">\n",
              "        \n",
              "  <svg xmlns=\"http://www.w3.org/2000/svg\" height=\"24px\"viewBox=\"0 0 24 24\"\n",
              "       width=\"24px\">\n",
              "    <path d=\"M0 0h24v24H0V0z\" fill=\"none\"/>\n",
              "    <path d=\"M18.56 5.44l.94 2.06.94-2.06 2.06-.94-2.06-.94-.94-2.06-.94 2.06-2.06.94zm-11 1L8.5 8.5l.94-2.06 2.06-.94-2.06-.94L8.5 2.5l-.94 2.06-2.06.94zm10 10l.94 2.06.94-2.06 2.06-.94-2.06-.94-.94-2.06-.94 2.06-2.06.94z\"/><path d=\"M17.41 7.96l-1.37-1.37c-.4-.4-.92-.59-1.43-.59-.52 0-1.04.2-1.43.59L10.3 9.45l-7.72 7.72c-.78.78-.78 2.05 0 2.83L4 21.41c.39.39.9.59 1.41.59.51 0 1.02-.2 1.41-.59l7.78-7.78 2.81-2.81c.8-.78.8-2.07 0-2.86zM5.41 20L4 18.59l7.72-7.72 1.47 1.35L5.41 20z\"/>\n",
              "  </svg>\n",
              "      </button>\n",
              "      \n",
              "  <style>\n",
              "    .colab-df-container {\n",
              "      display:flex;\n",
              "      flex-wrap:wrap;\n",
              "      gap: 12px;\n",
              "    }\n",
              "\n",
              "    .colab-df-convert {\n",
              "      background-color: #E8F0FE;\n",
              "      border: none;\n",
              "      border-radius: 50%;\n",
              "      cursor: pointer;\n",
              "      display: none;\n",
              "      fill: #1967D2;\n",
              "      height: 32px;\n",
              "      padding: 0 0 0 0;\n",
              "      width: 32px;\n",
              "    }\n",
              "\n",
              "    .colab-df-convert:hover {\n",
              "      background-color: #E2EBFA;\n",
              "      box-shadow: 0px 1px 2px rgba(60, 64, 67, 0.3), 0px 1px 3px 1px rgba(60, 64, 67, 0.15);\n",
              "      fill: #174EA6;\n",
              "    }\n",
              "\n",
              "    [theme=dark] .colab-df-convert {\n",
              "      background-color: #3B4455;\n",
              "      fill: #D2E3FC;\n",
              "    }\n",
              "\n",
              "    [theme=dark] .colab-df-convert:hover {\n",
              "      background-color: #434B5C;\n",
              "      box-shadow: 0px 1px 3px 1px rgba(0, 0, 0, 0.15);\n",
              "      filter: drop-shadow(0px 1px 2px rgba(0, 0, 0, 0.3));\n",
              "      fill: #FFFFFF;\n",
              "    }\n",
              "  </style>\n",
              "\n",
              "      <script>\n",
              "        const buttonEl =\n",
              "          document.querySelector('#df-2f75b704-a3bd-4473-a100-137fc8d33b21 button.colab-df-convert');\n",
              "        buttonEl.style.display =\n",
              "          google.colab.kernel.accessAllowed ? 'block' : 'none';\n",
              "\n",
              "        async function convertToInteractive(key) {\n",
              "          const element = document.querySelector('#df-2f75b704-a3bd-4473-a100-137fc8d33b21');\n",
              "          const dataTable =\n",
              "            await google.colab.kernel.invokeFunction('convertToInteractive',\n",
              "                                                     [key], {});\n",
              "          if (!dataTable) return;\n",
              "\n",
              "          const docLinkHtml = 'Like what you see? Visit the ' +\n",
              "            '<a target=\"_blank\" href=https://colab.research.google.com/notebooks/data_table.ipynb>data table notebook</a>'\n",
              "            + ' to learn more about interactive tables.';\n",
              "          element.innerHTML = '';\n",
              "          dataTable['output_type'] = 'display_data';\n",
              "          await google.colab.output.renderOutput(dataTable, element);\n",
              "          const docLink = document.createElement('div');\n",
              "          docLink.innerHTML = docLinkHtml;\n",
              "          element.appendChild(docLink);\n",
              "        }\n",
              "      </script>\n",
              "    </div>\n",
              "  </div>\n",
              "  "
            ]
          },
          "metadata": {},
          "execution_count": 5
        }
      ]
    },
    {
      "cell_type": "code",
      "source": [
        "def convert_pixle_to_image(pixle, display=False):\n",
        "    image_array = np.asarray(pixle)\n",
        "    image_array = image_array.reshape(32,32).astype('uint8')\n",
        "    # The original dataset is reflected so we will flip it then rotate for a better view only.\n",
        "    image_array = np.flip(image_array, 0)\n",
        "    image_array = rotate(image_array, -90)\n",
        "    new_image = Image.fromarray(image_array)\n",
        "    if display == True:\n",
        "        new_image.show()\n",
        "    return new_image"
      ],
      "metadata": {
        "id": "1Z_ReYyyzrHI"
      },
      "execution_count": null,
      "outputs": []
    },
    {
      "cell_type": "code",
      "source": [
        "#convert_values_to_image(training_letters_images.loc[0], True)\n",
        "# for i in range(10):\n",
        "#   print(convert_pixle_to_image(train_im.loc[i]))"
      ],
      "metadata": {
        "id": "XjncjuIy1S9P"
      },
      "execution_count": null,
      "outputs": []
    },
    {
      "cell_type": "code",
      "source": [
        "convert_pixle_to_image(train_im.loc[100])"
      ],
      "metadata": {
        "colab": {
          "base_uri": "https://localhost:8080/",
          "height": 49
        },
        "id": "XI5FGLWx126g",
        "outputId": "07e85e38-1e19-45f5-ef80-1cad26fa0e48"
      },
      "execution_count": null,
      "outputs": [
        {
          "output_type": "execute_result",
          "data": {
            "text/plain": [
              "<PIL.Image.Image image mode=L size=32x32 at 0x7F7BEE1B1790>"
            ],
            "image/png": "[encoded data removed]"
          },
          "metadata": {},
          "execution_count": 8
        }
      ]
    },
    {
      "cell_type": "code",
      "source": [
        "#Image normalization \n",
        "train_image_scaled = train_im.values.astype(\"float32\")/255\n",
        "test_image_scaled = test_im.values.astype(\"float32\")/255\n",
        "\n",
        "train_label = train_label.values.astype('int32')\n",
        "test_labels = test_labels.values.astype('int32')\n"
      ],
      "metadata": {
        "id": "UHC5JYeu2J4M"
      },
      "execution_count": null,
      "outputs": []
    },
    {
      "cell_type": "code",
      "source": [
        "train_image_scaled.shape"
      ],
      "metadata": {
        "colab": {
          "base_uri": "https://localhost:8080/"
        },
        "id": "ZnbtTZCFCERn",
        "outputId": "f7451de6-d5fa-4194-9aa6-ff05589cc3c8"
      },
      "execution_count": null,
      "outputs": [
        {
          "output_type": "execute_result",
          "data": {
            "text/plain": [
              "(13440, 1024)"
            ]
          },
          "metadata": {},
          "execution_count": 10
        }
      ]
    },
    {
      "cell_type": "code",
      "source": [
        "\n",
        "train_label"
      ],
      "metadata": {
        "colab": {
          "base_uri": "https://localhost:8080/"
        },
        "id": "AHHBArefEKRM",
        "outputId": "32d6bce1-bc9c-490f-9638-b9c0b1528fef"
      },
      "execution_count": null,
      "outputs": [
        {
          "output_type": "execute_result",
          "data": {
            "text/plain": [
              "array([[ 1],\n",
              "       [ 1],\n",
              "       [ 1],\n",
              "       ...,\n",
              "       [28],\n",
              "       [28],\n",
              "       [28]], dtype=int32)"
            ]
          },
          "metadata": {},
          "execution_count": 11
        }
      ]
    },
    {
      "cell_type": "markdown",
      "source": [
        "As train lables display, it is a Multi-classification problem and we have 28 classes"
      ],
      "metadata": {
        "id": "lgBXZUCqFVHo"
      }
    },
    {
      "cell_type": "markdown",
      "source": [
        "**We need to convert from integers format to binary format, So we will use One-Hot-Encoding**"
      ],
      "metadata": {
        "id": "3RAr-x4BGAam"
      }
    },
    {
      "cell_type": "code",
      "source": [
        "from tensorflow.keras.utils import to_categorical\n",
        "train_label_encoded = to_categorical(train_label-1,num_classes=28)\n",
        "test_labels_encoded = to_categorical(test_labels-1,num_classes=28)\n"
      ],
      "metadata": {
        "id": "GgrGNWdjExBM"
      },
      "execution_count": null,
      "outputs": []
    },
    {
      "cell_type": "code",
      "source": [
        "train_label_encoded"
      ],
      "metadata": {
        "colab": {
          "base_uri": "https://localhost:8080/"
        },
        "id": "eoJsOYF3GrgN",
        "outputId": "2f684a0c-13ed-45a6-c3a8-aa3c3e90b4b8"
      },
      "execution_count": null,
      "outputs": [
        {
          "output_type": "execute_result",
          "data": {
            "text/plain": [
              "array([[1., 0., 0., ..., 0., 0., 0.],\n",
              "       [1., 0., 0., ..., 0., 0., 0.],\n",
              "       [1., 0., 0., ..., 0., 0., 0.],\n",
              "       ...,\n",
              "       [0., 0., 0., ..., 0., 0., 1.],\n",
              "       [0., 0., 0., ..., 0., 0., 1.],\n",
              "       [0., 0., 0., ..., 0., 0., 1.]], dtype=float32)"
            ]
          },
          "metadata": {},
          "execution_count": 13
        }
      ]
    },
    {
      "cell_type": "markdown",
      "source": [
        "# Reshape the Inputs "
      ],
      "metadata": {
        "id": "24uqDe8TPpVT"
      }
    },
    {
      "cell_type": "code",
      "source": [
        "train_image_scaled = train_image_scaled.reshape([-1,32,32,1])\n",
        "test_image_scaled = test_image_scaled.reshape([-1,32,32,1])"
      ],
      "metadata": {
        "id": "7ZDp5jOPJb2A"
      },
      "execution_count": null,
      "outputs": []
    },
    {
      "cell_type": "code",
      "source": [
        "print(train_image_scaled.shape)\n",
        "print(train_label_encoded.shape)\n",
        "print(test_image_scaled.shape)\n",
        "print(test_labels_encoded.shape)"
      ],
      "metadata": {
        "colab": {
          "base_uri": "https://localhost:8080/"
        },
        "id": "9OSgIyWXPn-o",
        "outputId": "2ed57717-f540-40b7-f739-a7f2196f7aee"
      },
      "execution_count": null,
      "outputs": [
        {
          "output_type": "stream",
          "name": "stdout",
          "text": [
            "(13440, 32, 32, 1)\n",
            "(13440, 28)\n",
            "(3360, 32, 32, 1)\n",
            "(3360, 28)\n"
          ]
        }
      ]
    },
    {
      "cell_type": "markdown",
      "source": [
        "# Model Architecture "
      ],
      "metadata": {
        "id": "cybp4Q72Vide"
      }
    },
    {
      "cell_type": "code",
      "source": [
        "# base_model = MobileNet(weights='imagenet',include_top=False,classes=28,input_shape=(32,32,3))\n"
      ],
      "metadata": {
        "id": "ENZRbZaKQPZJ"
      },
      "execution_count": null,
      "outputs": []
    },
    {
      "cell_type": "code",
      "source": [
        "#base_model.summary()"
      ],
      "metadata": {
        "id": "sZpytSW3gCpk"
      },
      "execution_count": null,
      "outputs": []
    },
    {
      "cell_type": "code",
      "source": [
        "# max_pool = layers.MaxPooling2D(padding='same')\n",
        "# flatten_layer = layers.Flatten()\n",
        "# drop_1 = layers.Dropout(0.3)\n",
        "# dense_layer_1= layers.Dense(512, activation='relu')\n",
        "\n",
        "# prediction_layer = layers.Dense(28, activation='softmax')"
      ],
      "metadata": {
        "id": "HMAkryjogg9W"
      },
      "execution_count": null,
      "outputs": []
    },
    {
      "cell_type": "code",
      "source": [
        ""
      ],
      "metadata": {
        "id": "o4muj7v36u1u"
      },
      "execution_count": null,
      "outputs": []
    },
    {
      "cell_type": "code",
      "source": [
        "# model = models.Sequential([\n",
        "#     base_model,\n",
        "#     max_pool,\n",
        "#     flatten_layer,\n",
        "#     drop_1,\n",
        "#     dense_layer_1,\n",
        "#     prediction_layer\n",
        "# ])\n",
        "\n",
        "# model.compile(\n",
        "#     optimizer= \"adam\",\n",
        "#     loss='categorical_crossentropy',\n",
        "#     metrics=['accuracy'],\n",
        "# )"
      ],
      "metadata": {
        "id": "WFaFiCzNpBA0"
      },
      "execution_count": null,
      "outputs": []
    },
    {
      "cell_type": "code",
      "source": [
        "# model.fit(train_image_scaled,epochs=5)"
      ],
      "metadata": {
        "id": "N60a2pM5qL3y"
      },
      "execution_count": null,
      "outputs": []
    },
    {
      "cell_type": "code",
      "source": [
        "def CNN_model(optimizer = 'adam',kernel_type = 'he_normal',activation_fun='relu'):\n",
        "\n",
        "  model = Sequential()\n",
        "  model.add(Conv2D(filters=16,kernel_size=3,padding='same',input_shape=(32,32,1),kernel_initializer=kernel_type,activation=activation_fun))\n",
        "  model.add(BatchNormalization())\n",
        "  model.add(MaxPooling2D(pool_size=(2,2)))\n",
        "  model.add(Dropout(0.3))\n",
        "\n",
        "  model.add(Conv2D(filters=32,kernel_size=3,padding='same',kernel_initializer=kernel_type,activation=activation_fun))\n",
        "  model.add(BatchNormalization())\n",
        "  model.add(MaxPooling2D(pool_size=(2,2)))\n",
        "  model.add(Dropout(0.3))\n",
        "\n",
        "  model.add(Conv2D(filters=64,kernel_size=3,padding='same',kernel_initializer=kernel_type,activation=activation_fun))\n",
        "  model.add(BatchNormalization())\n",
        "  model.add(MaxPooling2D(pool_size=(2,2)))\n",
        "  model.add(Dropout(0.3))\n",
        " \n",
        "  model.add(Conv2D(filters=128,kernel_size=3,padding='same',kernel_initializer=kernel_type,activation=activation_fun))\n",
        "  model.add(BatchNormalization())\n",
        "  model.add(MaxPooling2D(pool_size=(2,2)))\n",
        "  model.add(Dropout(0.3))\n",
        "  model.add(GlobalAveragePooling2D())\n",
        "\n",
        "  #full connected layer\n",
        "  model.add(Dense(28,activation='softmax'))\n",
        "\n",
        "\n",
        "  #compile_model \n",
        "  model.compile(loss='categorical_crossentropy', optimizer=optimizer, metrics=['accuracy'])\n",
        "\n",
        "  return model\n",
        "\n",
        "\n",
        "\n",
        "\n",
        "\n"
      ],
      "metadata": {
        "id": "i7QAf0WLsEvo"
      },
      "execution_count": null,
      "outputs": []
    },
    {
      "cell_type": "markdown",
      "source": [
        "# Parameters Tuning"
      ],
      "metadata": {
        "id": "Vv_0ey55Ipv7"
      }
    },
    {
      "cell_type": "code",
      "source": [
        "np.random.seed(42)\n",
        "\n",
        "# define the grid search parameters\n",
        "optimizer = ['RMSprop', 'Adam', 'Adagrad', 'Nadam']\n",
        "kernel_initializer = ['normal', 'uniform']\n",
        "activation = ['relu', 'linear', 'tanh']\n",
        "\n",
        "param_grid = dict(optimizer=optimizer, kernel_initializer=kernel_initializer, activation=activation)\n",
        "\n",
        "\n",
        "# count number of different parameters values combinations\n",
        "parameters_number = 1\n",
        "for x in param_grid:\n",
        "    parameters_number = parameters_number * len(param_grid[x]) \n",
        "print(\"Number of different parameter combinations = {}\".format(parameters_number))\n"
      ],
      "metadata": {
        "colab": {
          "base_uri": "https://localhost:8080/"
        },
        "id": "S0HEOTkgIt85",
        "outputId": "bbad8c04-2b5f-42da-ac1b-e3411bfde3fb"
      },
      "execution_count": null,
      "outputs": [
        {
          "output_type": "stream",
          "name": "stdout",
          "text": [
            "Number of different parameter combinations = 24\n"
          ]
        }
      ]
    },
    {
      "cell_type": "code",
      "source": [
        "epochs = 5\n",
        "batch_size = 20 # 20 divides the training data samples\n",
        "\n",
        "#creating the models with different hyperparameters\n",
        "for a,b,c in [(x,y,z) for x in optimizer for z in activation for y in kernel_initializer]:\n",
        "    params = {'optimizer' : a , 'kernel_initializer' : b , 'activation' : c}\n",
        "    print(params)\n",
        "    curr_model = CNN_model(a, b, c)\n",
        "    curr_model.fit(train_image_scaled, train_label_encoded, \n",
        "                    validation_data=(test_image_scaled, test_labels_encoded),\n",
        "                    epochs=epochs, batch_size=batch_size, verbose=1)\n",
        "    print(\"=============================================================================\")"
      ],
      "metadata": {
        "colab": {
          "base_uri": "https://localhost:8080/"
        },
        "id": "4OSLM2JJKZVh",
        "outputId": "8d288f70-53be-4ac1-981a-c6850fed4872"
      },
      "execution_count": null,
      "outputs": [
        {
          "output_type": "stream",
          "name": "stdout",
          "text": [
            "{'optimizer': 'RMSprop', 'kernel_initializer': 'normal', 'activation': 'relu'}\n",
            "Epoch 1/5\n",
            "672/672 [==============================] - 16s 9ms/step - loss: 1.8322 - accuracy: 0.4312 - val_loss: 1.3825 - val_accuracy: 0.5310\n",
            "Epoch 2/5\n",
            "672/672 [==============================] - 6s 9ms/step - loss: 0.7318 - accuracy: 0.7528 - val_loss: 0.6884 - val_accuracy: 0.7667\n",
            "Epoch 3/5\n",
            "672/672 [==============================] - 6s 9ms/step - loss: 0.5461 - accuracy: 0.8168 - val_loss: 1.3094 - val_accuracy: 0.6003\n",
            "Epoch 4/5\n",
            "672/672 [==============================] - 6s 9ms/step - loss: 0.4451 - accuracy: 0.8495 - val_loss: 0.3518 - val_accuracy: 0.8929\n",
            "Epoch 5/5\n",
            "672/672 [==============================] - 6s 9ms/step - loss: 0.4148 - accuracy: 0.8605 - val_loss: 0.2725 - val_accuracy: 0.9196\n",
            "=============================================================================\n",
            "{'optimizer': 'RMSprop', 'kernel_initializer': 'uniform', 'activation': 'relu'}\n",
            "Epoch 1/5\n",
            "672/672 [==============================] - 8s 9ms/step - loss: 1.6155 - accuracy: 0.4940 - val_loss: 0.7321 - val_accuracy: 0.7872\n",
            "Epoch 2/5\n",
            "672/672 [==============================] - 6s 9ms/step - loss: 0.6839 - accuracy: 0.7689 - val_loss: 1.9862 - val_accuracy: 0.5271\n",
            "Epoch 3/5\n",
            "672/672 [==============================] - 6s 9ms/step - loss: 0.5194 - accuracy: 0.8268 - val_loss: 0.2738 - val_accuracy: 0.9027\n",
            "Epoch 4/5\n",
            "672/672 [==============================] - 6s 9ms/step - loss: 0.4347 - accuracy: 0.8550 - val_loss: 0.5260 - val_accuracy: 0.8283\n",
            "Epoch 5/5\n",
            "672/672 [==============================] - 6s 9ms/step - loss: 0.4049 - accuracy: 0.8679 - val_loss: 2.0601 - val_accuracy: 0.5173\n",
            "=============================================================================\n",
            "{'optimizer': 'RMSprop', 'kernel_initializer': 'normal', 'activation': 'linear'}\n",
            "Epoch 1/5\n",
            "672/672 [==============================] - 8s 9ms/step - loss: 2.1524 - accuracy: 0.3421 - val_loss: 3.9090 - val_accuracy: 0.1515\n",
            "Epoch 2/5\n",
            "672/672 [==============================] - 6s 9ms/step - loss: 1.0769 - accuracy: 0.6536 - val_loss: 2.3280 - val_accuracy: 0.3729\n",
            "Epoch 3/5\n",
            "672/672 [==============================] - 6s 9ms/step - loss: 0.8019 - accuracy: 0.7284 - val_loss: 1.0845 - val_accuracy: 0.6348\n",
            "Epoch 4/5\n",
            "672/672 [==============================] - 6s 9ms/step - loss: 0.6652 - accuracy: 0.7812 - val_loss: 0.8338 - val_accuracy: 0.7423\n",
            "Epoch 5/5\n",
            "672/672 [==============================] - 6s 9ms/step - loss: 0.5922 - accuracy: 0.8018 - val_loss: 0.2980 - val_accuracy: 0.9107\n",
            "=============================================================================\n",
            "{'optimizer': 'RMSprop', 'kernel_initializer': 'uniform', 'activation': 'linear'}\n",
            "Epoch 1/5\n",
            "672/672 [==============================] - 7s 9ms/step - loss: 1.8962 - accuracy: 0.4135 - val_loss: 3.3864 - val_accuracy: 0.2911\n",
            "Epoch 2/5\n",
            "672/672 [==============================] - 6s 9ms/step - loss: 0.9491 - accuracy: 0.6922 - val_loss: 0.9908 - val_accuracy: 0.6955\n",
            "Epoch 3/5\n",
            "672/672 [==============================] - 6s 9ms/step - loss: 0.7158 - accuracy: 0.7597 - val_loss: 1.2672 - val_accuracy: 0.6149\n",
            "Epoch 4/5\n",
            "672/672 [==============================] - 6s 9ms/step - loss: 0.6113 - accuracy: 0.7937 - val_loss: 1.3948 - val_accuracy: 0.5655\n",
            "Epoch 5/5\n",
            "672/672 [==============================] - 6s 9ms/step - loss: 0.5473 - accuracy: 0.8190 - val_loss: 1.0152 - val_accuracy: 0.6827\n",
            "=============================================================================\n",
            "{'optimizer': 'RMSprop', 'kernel_initializer': 'normal', 'activation': 'tanh'}\n",
            "Epoch 1/5\n",
            "672/672 [==============================] - 8s 9ms/step - loss: 2.4572 - accuracy: 0.2638 - val_loss: 4.0368 - val_accuracy: 0.1199\n",
            "Epoch 2/5\n",
            "672/672 [==============================] - 6s 9ms/step - loss: 1.3295 - accuracy: 0.5632 - val_loss: 5.7806 - val_accuracy: 0.1167\n",
            "Epoch 3/5\n",
            "672/672 [==============================] - 6s 9ms/step - loss: 0.9714 - accuracy: 0.6780 - val_loss: 5.7711 - val_accuracy: 0.1607\n",
            "Epoch 4/5\n",
            "672/672 [==============================] - 6s 9ms/step - loss: 0.8140 - accuracy: 0.7227 - val_loss: 6.5566 - val_accuracy: 0.1146\n",
            "Epoch 5/5\n",
            "672/672 [==============================] - 6s 9ms/step - loss: 0.7234 - accuracy: 0.7525 - val_loss: 5.2894 - val_accuracy: 0.2021\n",
            "=============================================================================\n",
            "{'optimizer': 'RMSprop', 'kernel_initializer': 'uniform', 'activation': 'tanh'}\n",
            "Epoch 1/5\n",
            "672/672 [==============================] - 8s 10ms/step - loss: 2.0505 - accuracy: 0.3681 - val_loss: 9.3477 - val_accuracy: 0.0399\n",
            "Epoch 2/5\n",
            "672/672 [==============================] - 6s 9ms/step - loss: 0.9586 - accuracy: 0.6791 - val_loss: 3.7704 - val_accuracy: 0.2720\n",
            "Epoch 3/5\n",
            "672/672 [==============================] - 6s 9ms/step - loss: 0.7343 - accuracy: 0.7557 - val_loss: 2.5530 - val_accuracy: 0.3738\n",
            "Epoch 4/5\n",
            "672/672 [==============================] - 6s 9ms/step - loss: 0.6233 - accuracy: 0.7909 - val_loss: 2.0643 - val_accuracy: 0.4586\n",
            "Epoch 5/5\n",
            "672/672 [==============================] - 6s 9ms/step - loss: 0.5838 - accuracy: 0.8050 - val_loss: 0.6706 - val_accuracy: 0.7744\n",
            "=============================================================================\n",
            "{'optimizer': 'Adam', 'kernel_initializer': 'normal', 'activation': 'relu'}\n",
            "Epoch 1/5\n",
            "672/672 [==============================] - 7s 9ms/step - loss: 1.9918 - accuracy: 0.3879 - val_loss: 2.6816 - val_accuracy: 0.1943\n",
            "Epoch 2/5\n",
            "672/672 [==============================] - 5s 8ms/step - loss: 0.8546 - accuracy: 0.7133 - val_loss: 0.5567 - val_accuracy: 0.8173\n",
            "Epoch 3/5\n",
            "672/672 [==============================] - 5s 8ms/step - loss: 0.6085 - accuracy: 0.7954 - val_loss: 1.5597 - val_accuracy: 0.5315\n",
            "Epoch 4/5\n",
            "672/672 [==============================] - 5s 8ms/step - loss: 0.5092 - accuracy: 0.8340 - val_loss: 0.3636 - val_accuracy: 0.8637\n",
            "Epoch 5/5\n",
            "672/672 [==============================] - 5s 8ms/step - loss: 0.4407 - accuracy: 0.8512 - val_loss: 1.2713 - val_accuracy: 0.5997\n",
            "=============================================================================\n",
            "{'optimizer': 'Adam', 'kernel_initializer': 'uniform', 'activation': 'relu'}\n",
            "Epoch 1/5\n",
            "672/672 [==============================] - 6s 8ms/step - loss: 1.8483 - accuracy: 0.4338 - val_loss: 1.1444 - val_accuracy: 0.6274\n",
            "Epoch 2/5\n",
            "672/672 [==============================] - 5s 8ms/step - loss: 0.7624 - accuracy: 0.7457 - val_loss: 0.6695 - val_accuracy: 0.7580\n",
            "Epoch 3/5\n",
            "672/672 [==============================] - 5s 8ms/step - loss: 0.5461 - accuracy: 0.8186 - val_loss: 0.5510 - val_accuracy: 0.8143\n",
            "Epoch 4/5\n",
            "672/672 [==============================] - 5s 8ms/step - loss: 0.4619 - accuracy: 0.8472 - val_loss: 0.3748 - val_accuracy: 0.8783\n",
            "Epoch 5/5\n",
            "672/672 [==============================] - 5s 8ms/step - loss: 0.3949 - accuracy: 0.8707 - val_loss: 0.1964 - val_accuracy: 0.9357\n",
            "=============================================================================\n",
            "{'optimizer': 'Adam', 'kernel_initializer': 'normal', 'activation': 'linear'}\n",
            "Epoch 1/5\n",
            "672/672 [==============================] - 6s 8ms/step - loss: 2.2407 - accuracy: 0.3168 - val_loss: 3.5696 - val_accuracy: 0.2372\n",
            "Epoch 2/5\n",
            "672/672 [==============================] - 5s 8ms/step - loss: 1.1435 - accuracy: 0.6330 - val_loss: 1.4402 - val_accuracy: 0.5476\n",
            "Epoch 3/5\n",
            "672/672 [==============================] - 5s 8ms/step - loss: 0.8203 - accuracy: 0.7307 - val_loss: 0.4960 - val_accuracy: 0.8417\n",
            "Epoch 4/5\n",
            "672/672 [==============================] - 5s 8ms/step - loss: 0.6725 - accuracy: 0.7801 - val_loss: 0.9647 - val_accuracy: 0.6929\n",
            "Epoch 5/5\n",
            "672/672 [==============================] - 5s 8ms/step - loss: 0.5917 - accuracy: 0.8068 - val_loss: 0.3465 - val_accuracy: 0.8851\n",
            "=============================================================================\n",
            "{'optimizer': 'Adam', 'kernel_initializer': 'uniform', 'activation': 'linear'}\n",
            "Epoch 1/5\n",
            "672/672 [==============================] - 6s 8ms/step - loss: 2.1192 - accuracy: 0.3523 - val_loss: 2.5880 - val_accuracy: 0.2580\n",
            "Epoch 2/5\n",
            "672/672 [==============================] - 5s 8ms/step - loss: 1.0763 - accuracy: 0.6514 - val_loss: 1.4195 - val_accuracy: 0.5500\n",
            "Epoch 3/5\n",
            "672/672 [==============================] - 5s 8ms/step - loss: 0.7631 - accuracy: 0.7478 - val_loss: 0.4868 - val_accuracy: 0.8333\n",
            "Epoch 4/5\n",
            "672/672 [==============================] - 5s 8ms/step - loss: 0.6341 - accuracy: 0.7914 - val_loss: 0.5680 - val_accuracy: 0.7854\n",
            "Epoch 5/5\n",
            "672/672 [==============================] - 5s 8ms/step - loss: 0.5594 - accuracy: 0.8179 - val_loss: 0.6097 - val_accuracy: 0.7893\n",
            "=============================================================================\n",
            "{'optimizer': 'Adam', 'kernel_initializer': 'normal', 'activation': 'tanh'}\n",
            "Epoch 1/5\n",
            "672/672 [==============================] - 6s 8ms/step - loss: 2.5298 - accuracy: 0.2364 - val_loss: 9.3314 - val_accuracy: 0.0381\n",
            "Epoch 2/5\n",
            "672/672 [==============================] - 5s 8ms/step - loss: 1.3782 - accuracy: 0.5468 - val_loss: 9.3275 - val_accuracy: 0.0387\n",
            "Epoch 3/5\n",
            "672/672 [==============================] - 5s 8ms/step - loss: 0.9728 - accuracy: 0.6751 - val_loss: 6.7662 - val_accuracy: 0.0756\n",
            "Epoch 4/5\n",
            "672/672 [==============================] - 5s 8ms/step - loss: 0.8140 - accuracy: 0.7217 - val_loss: 5.8682 - val_accuracy: 0.1226\n",
            "Epoch 5/5\n",
            "672/672 [==============================] - 5s 8ms/step - loss: 0.7249 - accuracy: 0.7525 - val_loss: 1.7858 - val_accuracy: 0.5161\n",
            "=============================================================================\n",
            "{'optimizer': 'Adam', 'kernel_initializer': 'uniform', 'activation': 'tanh'}\n",
            "Epoch 1/5\n",
            "672/672 [==============================] - 6s 8ms/step - loss: 2.1582 - accuracy: 0.3417 - val_loss: 7.9422 - val_accuracy: 0.0860\n",
            "Epoch 2/5\n",
            "672/672 [==============================] - 5s 8ms/step - loss: 1.0739 - accuracy: 0.6500 - val_loss: 6.4396 - val_accuracy: 0.0735\n",
            "Epoch 3/5\n",
            "672/672 [==============================] - 5s 8ms/step - loss: 0.7937 - accuracy: 0.7352 - val_loss: 3.1211 - val_accuracy: 0.3217\n",
            "Epoch 4/5\n",
            "672/672 [==============================] - 5s 8ms/step - loss: 0.6685 - accuracy: 0.7784 - val_loss: 4.0240 - val_accuracy: 0.1560\n",
            "Epoch 5/5\n",
            "672/672 [==============================] - 5s 8ms/step - loss: 0.6054 - accuracy: 0.7944 - val_loss: 3.3568 - val_accuracy: 0.2604\n",
            "=============================================================================\n",
            "{'optimizer': 'Adagrad', 'kernel_initializer': 'normal', 'activation': 'relu'}\n",
            "Epoch 1/5\n",
            "672/672 [==============================] - 6s 8ms/step - loss: 3.5501 - accuracy: 0.0692 - val_loss: 3.2371 - val_accuracy: 0.0619\n",
            "Epoch 2/5\n",
            "672/672 [==============================] - 5s 8ms/step - loss: 3.1673 - accuracy: 0.1135 - val_loss: 2.9107 - val_accuracy: 0.1381\n",
            "Epoch 3/5\n",
            "672/672 [==============================] - 5s 8ms/step - loss: 3.0015 - accuracy: 0.1443 - val_loss: 2.8332 - val_accuracy: 0.1527\n",
            "Epoch 4/5\n",
            "672/672 [==============================] - 5s 8ms/step - loss: 2.8797 - accuracy: 0.1670 - val_loss: 2.7519 - val_accuracy: 0.1717\n",
            "Epoch 5/5\n",
            "672/672 [==============================] - 5s 8ms/step - loss: 2.7943 - accuracy: 0.1830 - val_loss: 2.6786 - val_accuracy: 0.1970\n",
            "=============================================================================\n",
            "{'optimizer': 'Adagrad', 'kernel_initializer': 'uniform', 'activation': 'relu'}\n",
            "Epoch 1/5\n",
            "672/672 [==============================] - 6s 8ms/step - loss: 3.2994 - accuracy: 0.0891 - val_loss: 3.5037 - val_accuracy: 0.0521\n",
            "Epoch 2/5\n",
            "672/672 [==============================] - 5s 8ms/step - loss: 2.9076 - accuracy: 0.1548 - val_loss: 2.7404 - val_accuracy: 0.1866\n",
            "Epoch 3/5\n",
            "672/672 [==============================] - 5s 8ms/step - loss: 2.7195 - accuracy: 0.1908 - val_loss: 2.5836 - val_accuracy: 0.2250\n",
            "Epoch 4/5\n",
            "672/672 [==============================] - 5s 8ms/step - loss: 2.5822 - accuracy: 0.2233 - val_loss: 2.4206 - val_accuracy: 0.2622\n",
            "Epoch 5/5\n",
            "672/672 [==============================] - 5s 8ms/step - loss: 2.4426 - accuracy: 0.2590 - val_loss: 2.2522 - val_accuracy: 0.3077\n",
            "=============================================================================\n",
            "{'optimizer': 'Adagrad', 'kernel_initializer': 'normal', 'activation': 'linear'}\n",
            "Epoch 1/5\n",
            "672/672 [==============================] - 6s 8ms/step - loss: 3.4306 - accuracy: 0.0627 - val_loss: 3.3624 - val_accuracy: 0.0429\n",
            "Epoch 2/5\n",
            "672/672 [==============================] - 5s 8ms/step - loss: 3.1789 - accuracy: 0.0893 - val_loss: 3.1542 - val_accuracy: 0.0988\n",
            "Epoch 3/5\n",
            "672/672 [==============================] - 5s 8ms/step - loss: 3.0802 - accuracy: 0.1154 - val_loss: 3.1042 - val_accuracy: 0.1226\n",
            "Epoch 4/5\n",
            "672/672 [==============================] - 5s 8ms/step - loss: 3.0218 - accuracy: 0.1260 - val_loss: 3.0564 - val_accuracy: 0.1354\n",
            "Epoch 5/5\n",
            "672/672 [==============================] - 5s 8ms/step - loss: 2.9621 - accuracy: 0.1376 - val_loss: 3.0027 - val_accuracy: 0.1443\n",
            "=============================================================================\n",
            "{'optimizer': 'Adagrad', 'kernel_initializer': 'uniform', 'activation': 'linear'}\n",
            "Epoch 1/5\n",
            "672/672 [==============================] - 6s 8ms/step - loss: 3.2685 - accuracy: 0.0844 - val_loss: 3.3567 - val_accuracy: 0.0533\n",
            "Epoch 2/5\n",
            "672/672 [==============================] - 5s 8ms/step - loss: 2.9996 - accuracy: 0.1269 - val_loss: 2.8623 - val_accuracy: 0.1619\n",
            "Epoch 3/5\n",
            "672/672 [==============================] - 5s 8ms/step - loss: 2.8642 - accuracy: 0.1594 - val_loss: 2.7465 - val_accuracy: 0.1836\n",
            "Epoch 4/5\n",
            "672/672 [==============================] - 5s 8ms/step - loss: 2.7682 - accuracy: 0.1847 - val_loss: 2.6257 - val_accuracy: 0.2089\n",
            "Epoch 5/5\n",
            "672/672 [==============================] - 5s 8ms/step - loss: 2.6667 - accuracy: 0.2037 - val_loss: 2.5180 - val_accuracy: 0.2363\n",
            "=============================================================================\n",
            "{'optimizer': 'Adagrad', 'kernel_initializer': 'normal', 'activation': 'tanh'}\n",
            "Epoch 1/5\n",
            "672/672 [==============================] - 6s 8ms/step - loss: 3.3975 - accuracy: 0.0554 - val_loss: 3.0825 - val_accuracy: 0.1274\n",
            "Epoch 2/5\n",
            "672/672 [==============================] - 5s 8ms/step - loss: 3.2403 - accuracy: 0.0797 - val_loss: 2.9457 - val_accuracy: 0.1482\n",
            "Epoch 3/5\n",
            "672/672 [==============================] - 5s 8ms/step - loss: 3.1369 - accuracy: 0.0984 - val_loss: 2.8661 - val_accuracy: 0.1580\n",
            "Epoch 4/5\n",
            "672/672 [==============================] - 5s 8ms/step - loss: 3.0708 - accuracy: 0.1096 - val_loss: 2.8057 - val_accuracy: 0.1708\n",
            "Epoch 5/5\n",
            "672/672 [==============================] - 5s 8ms/step - loss: 3.0174 - accuracy: 0.1275 - val_loss: 2.7563 - val_accuracy: 0.1804\n",
            "=============================================================================\n",
            "{'optimizer': 'Adagrad', 'kernel_initializer': 'uniform', 'activation': 'tanh'}\n",
            "Epoch 1/5\n",
            "672/672 [==============================] - 6s 8ms/step - loss: 3.2792 - accuracy: 0.0817 - val_loss: 2.9897 - val_accuracy: 0.1443\n",
            "Epoch 2/5\n",
            "672/672 [==============================] - 5s 8ms/step - loss: 3.0413 - accuracy: 0.1223 - val_loss: 2.7044 - val_accuracy: 0.2119\n",
            "Epoch 3/5\n",
            "672/672 [==============================] - 5s 8ms/step - loss: 2.9195 - accuracy: 0.1487 - val_loss: 2.6023 - val_accuracy: 0.2366\n",
            "Epoch 4/5\n",
            "672/672 [==============================] - 5s 8ms/step - loss: 2.8355 - accuracy: 0.1706 - val_loss: 2.5170 - val_accuracy: 0.2571\n",
            "Epoch 5/5\n",
            "672/672 [==============================] - 5s 8ms/step - loss: 2.7693 - accuracy: 0.1860 - val_loss: 2.4383 - val_accuracy: 0.2759\n",
            "=============================================================================\n",
            "{'optimizer': 'Nadam', 'kernel_initializer': 'normal', 'activation': 'relu'}\n",
            "Epoch 1/5\n",
            "672/672 [==============================] - 10s 11ms/step - loss: 1.9873 - accuracy: 0.3998 - val_loss: 2.2791 - val_accuracy: 0.3494\n",
            "Epoch 2/5\n",
            "672/672 [==============================] - 8s 11ms/step - loss: 0.8176 - accuracy: 0.7317 - val_loss: 0.5195 - val_accuracy: 0.8199\n",
            "Epoch 3/5\n",
            "672/672 [==============================] - 7s 11ms/step - loss: 0.5899 - accuracy: 0.8054 - val_loss: 0.5328 - val_accuracy: 0.8295\n",
            "Epoch 4/5\n",
            "672/672 [==============================] - 8s 11ms/step - loss: 0.4893 - accuracy: 0.8396 - val_loss: 0.2664 - val_accuracy: 0.9167\n",
            "Epoch 5/5\n",
            "672/672 [==============================] - 8s 11ms/step - loss: 0.4158 - accuracy: 0.8609 - val_loss: 0.3551 - val_accuracy: 0.8896\n",
            "=============================================================================\n",
            "{'optimizer': 'Nadam', 'kernel_initializer': 'uniform', 'activation': 'relu'}\n",
            "Epoch 1/5\n",
            "672/672 [==============================] - 10s 11ms/step - loss: 1.7392 - accuracy: 0.4704 - val_loss: 1.0393 - val_accuracy: 0.6851\n",
            "Epoch 2/5\n",
            "672/672 [==============================] - 8s 11ms/step - loss: 0.7140 - accuracy: 0.7629 - val_loss: 0.5044 - val_accuracy: 0.8268\n",
            "Epoch 3/5\n",
            "672/672 [==============================] - 7s 11ms/step - loss: 0.5312 - accuracy: 0.8241 - val_loss: 0.2564 - val_accuracy: 0.9214\n",
            "Epoch 4/5\n",
            "672/672 [==============================] - 7s 11ms/step - loss: 0.4363 - accuracy: 0.8574 - val_loss: 0.2893 - val_accuracy: 0.9068\n",
            "Epoch 5/5\n",
            "672/672 [==============================] - 7s 11ms/step - loss: 0.3944 - accuracy: 0.8708 - val_loss: 0.6417 - val_accuracy: 0.7932\n",
            "=============================================================================\n",
            "{'optimizer': 'Nadam', 'kernel_initializer': 'normal', 'activation': 'linear'}\n",
            "Epoch 1/5\n",
            "672/672 [==============================] - 9s 11ms/step - loss: 2.2093 - accuracy: 0.3342 - val_loss: 2.9467 - val_accuracy: 0.1607\n",
            "Epoch 2/5\n",
            "672/672 [==============================] - 7s 11ms/step - loss: 1.1389 - accuracy: 0.6338 - val_loss: 1.6053 - val_accuracy: 0.5092\n",
            "Epoch 3/5\n",
            "672/672 [==============================] - 7s 11ms/step - loss: 0.8201 - accuracy: 0.7306 - val_loss: 2.0403 - val_accuracy: 0.4682\n",
            "Epoch 4/5\n",
            "672/672 [==============================] - 7s 11ms/step - loss: 0.6694 - accuracy: 0.7818 - val_loss: 0.9213 - val_accuracy: 0.7086\n",
            "Epoch 5/5\n",
            "672/672 [==============================] - 7s 11ms/step - loss: 0.6001 - accuracy: 0.8027 - val_loss: 1.0455 - val_accuracy: 0.6610\n",
            "=============================================================================\n",
            "{'optimizer': 'Nadam', 'kernel_initializer': 'uniform', 'activation': 'linear'}\n",
            "Epoch 1/5\n",
            "672/672 [==============================] - 9s 11ms/step - loss: 1.9804 - accuracy: 0.3961 - val_loss: 2.6216 - val_accuracy: 0.2286\n",
            "Epoch 2/5\n",
            "672/672 [==============================] - 7s 11ms/step - loss: 0.9767 - accuracy: 0.6847 - val_loss: 0.6093 - val_accuracy: 0.7952\n",
            "Epoch 3/5\n",
            "672/672 [==============================] - 7s 11ms/step - loss: 0.7223 - accuracy: 0.7626 - val_loss: 0.4815 - val_accuracy: 0.8277\n",
            "Epoch 4/5\n",
            "672/672 [==============================] - 7s 11ms/step - loss: 0.6165 - accuracy: 0.7920 - val_loss: 0.7564 - val_accuracy: 0.7485\n",
            "Epoch 5/5\n",
            "672/672 [==============================] - 7s 11ms/step - loss: 0.5461 - accuracy: 0.8153 - val_loss: 1.1479 - val_accuracy: 0.6467\n",
            "=============================================================================\n",
            "{'optimizer': 'Nadam', 'kernel_initializer': 'normal', 'activation': 'tanh'}\n",
            "Epoch 1/5\n",
            "672/672 [==============================] - 10s 11ms/step - loss: 2.6136 - accuracy: 0.2170 - val_loss: 6.6638 - val_accuracy: 0.0417\n",
            "Epoch 2/5\n",
            "672/672 [==============================] - 7s 11ms/step - loss: 1.3886 - accuracy: 0.5465 - val_loss: 5.9990 - val_accuracy: 0.1170\n",
            "Epoch 3/5\n",
            "672/672 [==============================] - 8s 11ms/step - loss: 0.9729 - accuracy: 0.6735 - val_loss: 7.9949 - val_accuracy: 0.0497\n",
            "Epoch 4/5\n",
            "672/672 [==============================] - 7s 11ms/step - loss: 0.7930 - accuracy: 0.7388 - val_loss: 4.0447 - val_accuracy: 0.2789\n",
            "Epoch 5/5\n",
            "672/672 [==============================] - 8s 11ms/step - loss: 0.7055 - accuracy: 0.7599 - val_loss: 5.1749 - val_accuracy: 0.2226\n",
            "=============================================================================\n",
            "{'optimizer': 'Nadam', 'kernel_initializer': 'uniform', 'activation': 'tanh'}\n",
            "Epoch 1/5\n",
            "672/672 [==============================] - 10s 12ms/step - loss: 2.1654 - accuracy: 0.3442 - val_loss: 13.7829 - val_accuracy: 0.0357\n",
            "Epoch 2/5\n",
            "672/672 [==============================] - 8s 11ms/step - loss: 1.0396 - accuracy: 0.6585 - val_loss: 7.8666 - val_accuracy: 0.0881\n",
            "Epoch 3/5\n",
            "672/672 [==============================] - 8s 11ms/step - loss: 0.7609 - accuracy: 0.7467 - val_loss: 5.2074 - val_accuracy: 0.1646\n",
            "Epoch 4/5\n",
            "672/672 [==============================] - 7s 11ms/step - loss: 0.6450 - accuracy: 0.7839 - val_loss: 1.2286 - val_accuracy: 0.6423\n",
            "Epoch 5/5\n",
            "672/672 [==============================] - 8s 11ms/step - loss: 0.5906 - accuracy: 0.8042 - val_loss: 2.7025 - val_accuracy: 0.3708\n",
            "=============================================================================\n"
          ]
        }
      ]
    },
    {
      "cell_type": "code",
      "source": [
        ""
      ],
      "metadata": {
        "id": "dLVt925yKZSR"
      },
      "execution_count": null,
      "outputs": []
    },
    {
      "cell_type": "markdown",
      "source": [
        "**From above the best parameters are:**\n",
        "\n",
        "\n",
        "1.   Optimizer: adam\n",
        "2.   Activation: relu\n",
        "3.   kernel_init: unifrom\n",
        "\n"
      ],
      "metadata": {
        "id": "IgJebtVXN5Nv"
      }
    },
    {
      "cell_type": "code",
      "source": [
        "## model creation of best parameters \n",
        "\n",
        "model = CNN_model(optimizer = 'adam',kernel_type = 'uniform',activation_fun='relu')"
      ],
      "metadata": {
        "id": "guY4MABwKZPF"
      },
      "execution_count": null,
      "outputs": []
    },
    {
      "cell_type": "code",
      "source": [
        "from keras.callbacks import ModelCheckpoint"
      ],
      "metadata": {
        "id": "n64dpEBHQvND"
      },
      "execution_count": null,
      "outputs": []
    },
    {
      "cell_type": "code",
      "source": [
        "checkpointer = ModelCheckpoint(filepath=\"weights.hdf5\", verbose=1, save_best_only=True)\n",
        "history = model.fit(train_image_scaled, train_label_encoded, \n",
        "                    validation_data=(test_image_scaled, test_labels_encoded),\n",
        "                    epochs=30, batch_size=30, verbose=1,callbacks=[checkpointer])"
      ],
      "metadata": {
        "colab": {
          "base_uri": "https://localhost:8080/"
        },
        "id": "QCn3qxx-RXpB",
        "outputId": "091a7b6f-b0cf-48f1-83c5-b6fe59234d28"
      },
      "execution_count": null,
      "outputs": [
        {
          "output_type": "stream",
          "name": "stdout",
          "text": [
            "Epoch 1/30\n",
            "446/448 [============================>.] - ETA: 0s - loss: 0.0992 - accuracy: 0.9668\n",
            "Epoch 1: val_loss improved from inf to 0.11176, saving model to weights.hdf5\n",
            "448/448 [==============================] - 6s 13ms/step - loss: 0.0990 - accuracy: 0.9670 - val_loss: 0.1118 - val_accuracy: 0.9750\n",
            "Epoch 2/30\n",
            "445/448 [============================>.] - ETA: 0s - loss: 0.1009 - accuracy: 0.9668\n",
            "Epoch 2: val_loss improved from 0.11176 to 0.10708, saving model to weights.hdf5\n",
            "448/448 [==============================] - 4s 9ms/step - loss: 0.1009 - accuracy: 0.9669 - val_loss: 0.1071 - val_accuracy: 0.9705\n",
            "Epoch 3/30\n",
            "442/448 [============================>.] - ETA: 0s - loss: 0.1018 - accuracy: 0.9667\n",
            "Epoch 3: val_loss did not improve from 0.10708\n",
            "448/448 [==============================] - 4s 9ms/step - loss: 0.1018 - accuracy: 0.9669 - val_loss: 0.2181 - val_accuracy: 0.9342\n",
            "Epoch 4/30\n",
            "445/448 [============================>.] - ETA: 0s - loss: 0.0925 - accuracy: 0.9678\n",
            "Epoch 4: val_loss did not improve from 0.10708\n",
            "448/448 [==============================] - 4s 9ms/step - loss: 0.0926 - accuracy: 0.9677 - val_loss: 0.1407 - val_accuracy: 0.9631\n",
            "Epoch 5/30\n",
            "448/448 [==============================] - ETA: 0s - loss: 0.0981 - accuracy: 0.9661\n",
            "Epoch 5: val_loss did not improve from 0.10708\n",
            "448/448 [==============================] - 4s 9ms/step - loss: 0.0981 - accuracy: 0.9661 - val_loss: 0.1206 - val_accuracy: 0.9696\n",
            "Epoch 6/30\n",
            "448/448 [==============================] - ETA: 0s - loss: 0.0931 - accuracy: 0.9673\n",
            "Epoch 6: val_loss did not improve from 0.10708\n",
            "448/448 [==============================] - 4s 9ms/step - loss: 0.0931 - accuracy: 0.9673 - val_loss: 0.1349 - val_accuracy: 0.9696\n",
            "Epoch 7/30\n",
            "445/448 [============================>.] - ETA: 0s - loss: 0.0965 - accuracy: 0.9639\n",
            "Epoch 7: val_loss did not improve from 0.10708\n",
            "448/448 [==============================] - 4s 9ms/step - loss: 0.0967 - accuracy: 0.9638 - val_loss: 0.1596 - val_accuracy: 0.9563\n",
            "Epoch 8/30\n",
            "443/448 [============================>.] - ETA: 0s - loss: 0.0952 - accuracy: 0.9667\n",
            "Epoch 8: val_loss improved from 0.10708 to 0.10472, saving model to weights.hdf5\n",
            "448/448 [==============================] - 4s 9ms/step - loss: 0.0961 - accuracy: 0.9663 - val_loss: 0.1047 - val_accuracy: 0.9759\n",
            "Epoch 9/30\n",
            "442/448 [============================>.] - ETA: 0s - loss: 0.1066 - accuracy: 0.9618\n",
            "Epoch 9: val_loss did not improve from 0.10472\n",
            "448/448 [==============================] - 4s 9ms/step - loss: 0.1059 - accuracy: 0.9620 - val_loss: 0.1062 - val_accuracy: 0.9696\n",
            "Epoch 10/30\n",
            "442/448 [============================>.] - ETA: 0s - loss: 0.1050 - accuracy: 0.9655\n",
            "Epoch 10: val_loss did not improve from 0.10472\n",
            "448/448 [==============================] - 4s 9ms/step - loss: 0.1046 - accuracy: 0.9655 - val_loss: 0.1138 - val_accuracy: 0.9699\n",
            "Epoch 11/30\n",
            "447/448 [============================>.] - ETA: 0s - loss: 0.0983 - accuracy: 0.9661\n",
            "Epoch 11: val_loss did not improve from 0.10472\n",
            "448/448 [==============================] - 4s 9ms/step - loss: 0.0983 - accuracy: 0.9661 - val_loss: 0.1142 - val_accuracy: 0.9690\n",
            "Epoch 12/30\n",
            "448/448 [==============================] - ETA: 0s - loss: 0.0997 - accuracy: 0.9651\n",
            "Epoch 12: val_loss did not improve from 0.10472\n",
            "448/448 [==============================] - 4s 9ms/step - loss: 0.0997 - accuracy: 0.9651 - val_loss: 0.1166 - val_accuracy: 0.9682\n",
            "Epoch 13/30\n",
            "444/448 [============================>.] - ETA: 0s - loss: 0.0938 - accuracy: 0.9665\n",
            "Epoch 13: val_loss did not improve from 0.10472\n",
            "448/448 [==============================] - 4s 9ms/step - loss: 0.0939 - accuracy: 0.9665 - val_loss: 0.1127 - val_accuracy: 0.9682\n",
            "Epoch 14/30\n",
            "444/448 [============================>.] - ETA: 0s - loss: 0.0998 - accuracy: 0.9641\n",
            "Epoch 14: val_loss improved from 0.10472 to 0.10265, saving model to weights.hdf5\n",
            "448/448 [==============================] - 4s 9ms/step - loss: 0.0996 - accuracy: 0.9642 - val_loss: 0.1027 - val_accuracy: 0.9753\n",
            "Epoch 15/30\n",
            "447/448 [============================>.] - ETA: 0s - loss: 0.0972 - accuracy: 0.9654\n",
            "Epoch 15: val_loss did not improve from 0.10265\n",
            "448/448 [==============================] - 4s 9ms/step - loss: 0.0973 - accuracy: 0.9653 - val_loss: 0.1047 - val_accuracy: 0.9720\n",
            "Epoch 16/30\n",
            "443/448 [============================>.] - ETA: 0s - loss: 0.1026 - accuracy: 0.9658\n",
            "Epoch 16: val_loss did not improve from 0.10265\n",
            "448/448 [==============================] - 4s 9ms/step - loss: 0.1030 - accuracy: 0.9656 - val_loss: 0.1050 - val_accuracy: 0.9699\n",
            "Epoch 17/30\n",
            "448/448 [==============================] - ETA: 0s - loss: 0.0973 - accuracy: 0.9661\n",
            "Epoch 17: val_loss did not improve from 0.10265\n",
            "448/448 [==============================] - 4s 9ms/step - loss: 0.0973 - accuracy: 0.9661 - val_loss: 0.1244 - val_accuracy: 0.9640\n",
            "Epoch 18/30\n",
            "445/448 [============================>.] - ETA: 0s - loss: 0.0916 - accuracy: 0.9681\n",
            "Epoch 18: val_loss improved from 0.10265 to 0.10083, saving model to weights.hdf5\n",
            "448/448 [==============================] - 4s 9ms/step - loss: 0.0916 - accuracy: 0.9679 - val_loss: 0.1008 - val_accuracy: 0.9732\n",
            "Epoch 19/30\n",
            "448/448 [==============================] - ETA: 0s - loss: 0.0928 - accuracy: 0.9656\n",
            "Epoch 19: val_loss did not improve from 0.10083\n",
            "448/448 [==============================] - 4s 9ms/step - loss: 0.0928 - accuracy: 0.9656 - val_loss: 0.3044 - val_accuracy: 0.9030\n",
            "Epoch 20/30\n",
            "442/448 [============================>.] - ETA: 0s - loss: 0.0920 - accuracy: 0.9680\n",
            "Epoch 20: val_loss did not improve from 0.10083\n",
            "448/448 [==============================] - 4s 9ms/step - loss: 0.0921 - accuracy: 0.9682 - val_loss: 0.1455 - val_accuracy: 0.9634\n",
            "Epoch 21/30\n",
            "442/448 [============================>.] - ETA: 0s - loss: 0.0923 - accuracy: 0.9673\n",
            "Epoch 21: val_loss did not improve from 0.10083\n",
            "448/448 [==============================] - 4s 9ms/step - loss: 0.0921 - accuracy: 0.9673 - val_loss: 0.1048 - val_accuracy: 0.9762\n",
            "Epoch 22/30\n",
            "442/448 [============================>.] - ETA: 0s - loss: 0.0947 - accuracy: 0.9670\n",
            "Epoch 22: val_loss did not improve from 0.10083\n",
            "448/448 [==============================] - 4s 9ms/step - loss: 0.0950 - accuracy: 0.9668 - val_loss: 0.1021 - val_accuracy: 0.9753\n",
            "Epoch 23/30\n",
            "445/448 [============================>.] - ETA: 0s - loss: 0.0969 - accuracy: 0.9658\n",
            "Epoch 23: val_loss did not improve from 0.10083\n",
            "448/448 [==============================] - 4s 9ms/step - loss: 0.0970 - accuracy: 0.9656 - val_loss: 0.1065 - val_accuracy: 0.9723\n",
            "Epoch 24/30\n",
            "447/448 [============================>.] - ETA: 0s - loss: 0.0950 - accuracy: 0.9679\n",
            "Epoch 24: val_loss did not improve from 0.10083\n",
            "448/448 [==============================] - 4s 9ms/step - loss: 0.0950 - accuracy: 0.9679 - val_loss: 0.1444 - val_accuracy: 0.9607\n",
            "Epoch 25/30\n",
            "447/448 [============================>.] - ETA: 0s - loss: 0.0983 - accuracy: 0.9666\n",
            "Epoch 25: val_loss did not improve from 0.10083\n",
            "448/448 [==============================] - 4s 9ms/step - loss: 0.0981 - accuracy: 0.9667 - val_loss: 0.1044 - val_accuracy: 0.9705\n",
            "Epoch 26/30\n",
            "448/448 [==============================] - ETA: 0s - loss: 0.0899 - accuracy: 0.9684\n",
            "Epoch 26: val_loss did not improve from 0.10083\n",
            "448/448 [==============================] - 4s 9ms/step - loss: 0.0899 - accuracy: 0.9684 - val_loss: 0.1010 - val_accuracy: 0.9753\n",
            "Epoch 27/30\n",
            "447/448 [============================>.] - ETA: 0s - loss: 0.0912 - accuracy: 0.9693\n",
            "Epoch 27: val_loss did not improve from 0.10083\n",
            "448/448 [==============================] - 4s 9ms/step - loss: 0.0911 - accuracy: 0.9693 - val_loss: 0.2194 - val_accuracy: 0.9357\n",
            "Epoch 28/30\n",
            "442/448 [============================>.] - ETA: 0s - loss: 0.0934 - accuracy: 0.9676\n",
            "Epoch 28: val_loss improved from 0.10083 to 0.09174, saving model to weights.hdf5\n",
            "448/448 [==============================] - 4s 10ms/step - loss: 0.0935 - accuracy: 0.9675 - val_loss: 0.0917 - val_accuracy: 0.9762\n",
            "Epoch 29/30\n",
            "443/448 [============================>.] - ETA: 0s - loss: 0.0917 - accuracy: 0.9686\n",
            "Epoch 29: val_loss did not improve from 0.09174\n",
            "448/448 [==============================] - 4s 9ms/step - loss: 0.0914 - accuracy: 0.9688 - val_loss: 0.1084 - val_accuracy: 0.9682\n",
            "Epoch 30/30\n",
            "448/448 [==============================] - ETA: 0s - loss: 0.0876 - accuracy: 0.9702\n",
            "Epoch 30: val_loss did not improve from 0.09174\n",
            "448/448 [==============================] - 4s 9ms/step - loss: 0.0876 - accuracy: 0.9702 - val_loss: 0.1239 - val_accuracy: 0.9735\n"
          ]
        }
      ]
    },
    {
      "cell_type": "code",
      "source": [
        "import matplotlib.pyplot as plt\n",
        "\n",
        "def plot_loss_accuracy(history):\n",
        "    # Loss Curves\n",
        "    plt.figure(figsize=[8,6])\n",
        "    plt.plot(history.history['loss'],'r',linewidth=3.0)\n",
        "    plt.plot(history.history['val_loss'],'b',linewidth=3.0)\n",
        "    plt.legend(['Training loss', 'Validation Loss'],fontsize=18)\n",
        "    plt.xlabel('Epochs ',fontsize=16)\n",
        "    plt.ylabel('Loss',fontsize=16)\n",
        "    plt.title('Loss Curves',fontsize=16)\n",
        "\n",
        "    # Accuracy Curves\n",
        "    plt.figure(figsize=[8,6])\n",
        "    plt.plot(history.history['accuracy'],'r',linewidth=3.0)\n",
        "    plt.plot(history.history['val_accuracy'],'b',linewidth=3.0)\n",
        "    plt.legend(['Training Accuracy', 'Validation Accuracy'],fontsize=18)\n",
        "    plt.xlabel('Epochs ',fontsize=16)\n",
        "    plt.ylabel('Accuracy',fontsize=16)\n",
        "    plt.title('Accuracy Curves',fontsize=16) "
      ],
      "metadata": {
        "id": "g6Rqa-Ld_bQa"
      },
      "execution_count": null,
      "outputs": []
    },
    {
      "cell_type": "code",
      "source": [
        "plot_loss_accuracy(history)\n"
      ],
      "metadata": {
        "colab": {
          "base_uri": "https://localhost:8080/",
          "height": 805
        },
        "id": "T-ld7ThQCbfC",
        "outputId": "ecb3be09-f628-4eb0-8195-cb293ca9a063"
      },
      "execution_count": null,
      "outputs": [
        {
          "output_type": "display_data",
          "data": {
            "text/plain": [
              "<Figure size 576x432 with 1 Axes>"
            ],
            "image/png": "[encoded data removed]"
          },
          "metadata": {
            "needs_background": "light"
          }
        },
        {
          "output_type": "display_data",
          "data": {
            "text/plain": [
              "<Figure size 576x432 with 1 Axes>"
            ],
            "image/png": "[encoded data removed]"
          },
          "metadata": {
            "needs_background": "light"
          }
        }
      ]
    },
    {
      "cell_type": "code",
      "source": [
        "model.load_weights('weights.hdf5')\n"
      ],
      "metadata": {
        "id": "2M_7GpoNChHb"
      },
      "execution_count": null,
      "outputs": []
    },
    {
      "cell_type": "markdown",
      "source": [
        "# Model Testing "
      ],
      "metadata": {
        "id": "Upfa11AFy2yd"
      }
    },
    {
      "cell_type": "code",
      "source": [
        "# Final evaluation of the model\n",
        "metrics = model.evaluate(test_image_scaled, test_labels_encoded, verbose=1)\n",
        "print(\"Test Accuracy: {}\".format(metrics[1]))\n",
        "print(\"Test Loss: {}\".format(metrics[0]))"
      ],
      "metadata": {
        "colab": {
          "base_uri": "https://localhost:8080/"
        },
        "id": "aFLbS-MSCx3o",
        "outputId": "8ffac4ee-7ded-4526-da16-9d81b7d18b4a"
      },
      "execution_count": null,
      "outputs": [
        {
          "output_type": "stream",
          "name": "stdout",
          "text": [
            "105/105 [==============================] - 1s 4ms/step - loss: 0.0917 - accuracy: 0.9762\n",
            "Test Accuracy: 0.976190447807312\n",
            "Test Loss: 0.09174273163080215\n"
          ]
        }
      ]
    },
    {
      "cell_type": "markdown",
      "source": [
        "# Save the final model(Serialization)"
      ],
      "metadata": {
        "id": "CEOhnA1vy_Sw"
      }
    },
    {
      "cell_type": "code",
      "source": [
        "from keras.models import model_from_json\n",
        "model_json = model.to_json()\n",
        "with open(\"model.json\", \"w\") as json_file:\n",
        "    json_file.write(model_json)"
      ],
      "metadata": {
        "id": "jiTI3abIDOQr"
      },
      "execution_count": null,
      "outputs": []
    },
    {
      "cell_type": "code",
      "source": [
        "# serialize weights to HDF5\n",
        "model.save_weights(\"model.h5\")\n",
        "print(\"Saved model to disk\")"
      ],
      "metadata": {
        "colab": {
          "base_uri": "https://localhost:8080/"
        },
        "id": "ewBqvwvlDOMn",
        "outputId": "e344ca7e-287c-4c47-a500-b8fe387316ed"
      },
      "execution_count": null,
      "outputs": [
        {
          "output_type": "stream",
          "name": "stdout",
          "text": [
            "Saved model to disk\n"
          ]
        }
      ]
    },
    {
      "cell_type": "code",
      "source": [
        ""
      ],
      "metadata": {
        "id": "c06EzlZ2DOGc"
      },
      "execution_count": null,
      "outputs": []
    },
    {
      "cell_type": "code",
      "source": [
        "# load Json and create model\n",
        "json_file = open('model.json', 'r')\n",
        "loaded_model_json = json_file.read()\n",
        "json_file.close()\n",
        "loaded_model = model_from_json(loaded_model_json)\n",
        "# load weights into new model\n",
        "loaded_model.load_weights(\"model.h5\")\n",
        "print(\"Loaded model from disk\")\n",
        " \n",
        "# compile the loaded model\n",
        "loaded_model.compile(loss='binary_crossentropy', optimizer='Adam', metrics=['accuracy'])"
      ],
      "metadata": {
        "colab": {
          "base_uri": "https://localhost:8080/"
        },
        "id": "4CrkHNLzDOAg",
        "outputId": "9587f880-c713-4de1-ba89-91bde37abe1f"
      },
      "execution_count": null,
      "outputs": [
        {
          "output_type": "stream",
          "name": "stdout",
          "text": [
            "Loaded model from disk\n"
          ]
        }
      ]
    },
    {
      "cell_type": "markdown",
      "source": [
        "# Image Class Prediction "
      ],
      "metadata": {
        "id": "C6x5RrXdzRkC"
      }
    },
    {
      "cell_type": "code",
      "source": [
        "def get_predicted_classes(model, data, labels=None):\n",
        "    image_predictions = model.predict(data)\n",
        "    predicted_classes = np.argmax(image_predictions, axis=1)\n",
        "    true_classes = np.argmax(labels, axis=1)\n",
        "    return predicted_classes, true_classes, image_predictions"
      ],
      "metadata": {
        "id": "bxIi-DZFFbYy"
      },
      "execution_count": null,
      "outputs": []
    },
    {
      "cell_type": "code",
      "source": [
        "from sklearn.metrics import classification_report\n",
        "\n",
        "def get_classification_report(y_true, y_pred):\n",
        "    print(classification_report(y_true, y_pred))"
      ],
      "metadata": {
        "id": "yFJDp0wIFbWM"
      },
      "execution_count": null,
      "outputs": []
    },
    {
      "cell_type": "code",
      "source": [
        "y_pred, y_true, image_predictions = get_predicted_classes(model, test_image_scaled, test_labels_encoded)\n",
        "get_classification_report(y_true, y_pred)"
      ],
      "metadata": {
        "colab": {
          "base_uri": "https://localhost:8080/"
        },
        "id": "OWuwIz4QFbTr",
        "outputId": "89d0ecbd-3fb6-45d4-e856-78d5d02197bb"
      },
      "execution_count": null,
      "outputs": [
        {
          "output_type": "stream",
          "name": "stdout",
          "text": [
            "              precision    recall  f1-score   support\n",
            "\n",
            "           0       0.98      1.00      0.99       120\n",
            "           1       1.00      0.99      1.00       120\n",
            "           2       0.89      0.97      0.93       120\n",
            "           3       0.97      0.93      0.95       120\n",
            "           4       0.99      0.97      0.98       120\n",
            "           5       0.97      0.98      0.98       120\n",
            "           6       1.00      0.99      1.00       120\n",
            "           7       0.95      0.97      0.96       120\n",
            "           8       0.97      0.94      0.96       120\n",
            "           9       0.93      0.99      0.96       120\n",
            "          10       0.98      0.93      0.96       120\n",
            "          11       1.00      1.00      1.00       120\n",
            "          12       0.99      0.99      0.99       120\n",
            "          13       0.97      0.99      0.98       120\n",
            "          14       1.00      0.95      0.97       120\n",
            "          15       0.94      1.00      0.97       120\n",
            "          16       1.00      0.95      0.97       120\n",
            "          17       0.98      1.00      0.99       120\n",
            "          18       1.00      0.99      1.00       120\n",
            "          19       0.94      0.98      0.96       120\n",
            "          20       0.98      0.96      0.97       120\n",
            "          21       0.99      0.97      0.98       120\n",
            "          22       1.00      1.00      1.00       120\n",
            "          23       1.00      0.97      0.99       120\n",
            "          24       0.97      0.94      0.95       120\n",
            "          25       0.97      0.97      0.97       120\n",
            "          26       0.96      0.97      0.97       120\n",
            "          27       1.00      1.00      1.00       120\n",
            "\n",
            "    accuracy                           0.98      3360\n",
            "   macro avg       0.98      0.98      0.98      3360\n",
            "weighted avg       0.98      0.98      0.98      3360\n",
            "\n"
          ]
        }
      ]
    },
    {
      "cell_type": "code",
      "source": [
        "errors = (y_pred - y_true != 0)\n",
        "\n",
        "\n",
        "Y_pred_classes_errors = y_pred[errors]\n",
        "Y_pred_errors = image_predictions[errors]\n",
        "Y_true_errors = y_true[errors]\n",
        "X_val_errors = test_image_scaled[errors]\n",
        "\n",
        "\n",
        "def display_errors(errors_index,img_errors,pred_errors, obs_errors):\n",
        "    \"\"\" This function shows 6 images with their predicted and real labels\"\"\"\n",
        "    n = 0\n",
        "    nrows = 2\n",
        "    ncols = 3\n",
        "    fig, ax = plt.subplots(nrows,ncols,sharex=True,sharey=True)\n",
        "    for row in range(nrows):\n",
        "        for col in range(ncols):\n",
        "            error = errors_index[n]\n",
        "            image_array = np.flip(img_errors[error], 0)\n",
        "            image_array = rotate(img_errors[error], -90)\n",
        "            ax[row,col].imshow((image_array).reshape((32,32)))\n",
        "            ax[row,col].set_title(\"Predicted label :{}\\nTrue label :{}\".format(pred_errors[error],obs_errors[error]))\n",
        "            n += 1\n",
        "\n",
        "# Probabilities of the wrong predicted letters\n",
        "Y_pred_errors_prob = np.max(Y_pred_errors,axis = 1)\n",
        "\n",
        "# Predicted probabilities of the true values in the error set\n",
        "true_prob_errors = np.diagonal(np.take(Y_pred_errors, Y_true_errors, axis=1))\n",
        "\n",
        "# Difference between the probability of the predicted label and the true label\n",
        "delta_pred_true_errors = Y_pred_errors_prob - true_prob_errors\n",
        "\n",
        "# Sorted list of the delta prob errors\n",
        "sorted_dela_errors = np.argsort(delta_pred_true_errors)\n",
        "\n",
        "# Top 6 errors \n",
        "most_important_errors = sorted_dela_errors[-6:]\n",
        "\n",
        "# Show the top 6 errors\n",
        "display_errors(most_important_errors, X_val_errors, Y_pred_classes_errors, Y_true_errors)"
      ],
      "metadata": {
        "colab": {
          "base_uri": "https://localhost:8080/",
          "height": 296
        },
        "id": "oK7o0j0JFbQX",
        "outputId": "30c4bcb8-93a0-4343-e442-f575453dec02"
      },
      "execution_count": null,
      "outputs": [
        {
          "output_type": "display_data",
          "data": {
            "text/plain": [
              "<Figure size 432x288 with 6 Axes>"
            ],
            "image/png": "[encoded data removed]"
          },
          "metadata": {
            "needs_background": "light"
          }
        }
      ]
    }
  ]
}